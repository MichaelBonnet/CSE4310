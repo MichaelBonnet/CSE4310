{
 "cells": [
  {
   "cell_type": "markdown",
   "metadata": {},
   "source": [
    "# Importing packages"
   ]
  },
  {
   "cell_type": "code",
   "execution_count": 6,
   "id": "563c253b",
   "metadata": {},
   "outputs": [],
   "source": [
    "import sys\n",
    "import numpy as np\n",
    "from numpy.lib import stride_tricks\n",
    "from PIL import Image\n",
    "from matplotlib import pyplot as plt\n",
    "from math import sqrt"
   ]
  },
  {
   "cell_type": "markdown",
   "metadata": {},
   "source": [
    "# `extract_patch` function definition"
   ]
  },
  {
   "cell_type": "code",
   "execution_count": 7,
   "id": "289eae36",
   "metadata": {},
   "outputs": [],
   "source": [
    "# Patch extraction\n",
    "def extract_patch(img, num_patches):\n",
    "\n",
    "    # non-overlapping patches\n",
    "    H, W, D = img.shape\n",
    "    size = int(H / (num_patches / 2))\n",
    "    print(\"size is    \"+str(size))\n",
    "    shape = [H // num_patches, W // num_patches] + [size, size, 3]\n",
    "    print(\"shape is   \"+str(shape))\n",
    "\n",
    "    # (row, col, patch_row, patch_col)\n",
    "    strides = [size * s for s in img.strides[:2]] + list(img.strides)\n",
    "    print(\"strides is \"+str(strides))\n",
    "\n",
    "    # extract patches\n",
    "    patches = stride_tricks.as_strided(img, shape=shape, strides=strides) \n",
    "\n",
    "    print(\"patches.shape is \"+str(patches.shape) )\n",
    "    \n",
    "    # return patches as array as well as an integer n\n",
    "    return patches"
   ]
  },
  {
   "cell_type": "code",
   "execution_count": 8,
   "id": "cccd6038",
   "metadata": {},
   "outputs": [
    {
     "name": "stdout",
     "output_type": "stream",
     "text": [
      "size is    62\n",
      "shape is   [31, 31, 62, 62, 3]\n",
      "strides is [93000, 186, 1500, 3, 1]\n",
      "patches.shape is (31, 31, 62, 62, 3)\n"
     ]
    },
    {
     "ename": "NameError",
     "evalue": "name 'sqrt' is not defined",
     "output_type": "error",
     "traceback": [
      "\u001b[0;31m---------------------------------------------------------------------------\u001b[0m",
      "\u001b[0;31mNameError\u001b[0m                                 Traceback (most recent call last)",
      "\u001b[0;32m/var/folders/2c/8kch9grs05l5l2_w8x1yjk6m0000gn/T/ipykernel_26769/2472701253.py\u001b[0m in \u001b[0;36m<module>\u001b[0;34m\u001b[0m\n\u001b[1;32m      3\u001b[0m \u001b[0mpatches\u001b[0m \u001b[0;34m=\u001b[0m \u001b[0mextract_patch\u001b[0m\u001b[0;34m(\u001b[0m \u001b[0mimage\u001b[0m\u001b[0;34m,\u001b[0m \u001b[0mnum_patches\u001b[0m \u001b[0;34m)\u001b[0m\u001b[0;34m\u001b[0m\u001b[0;34m\u001b[0m\u001b[0m\n\u001b[1;32m      4\u001b[0m \u001b[0;34m\u001b[0m\u001b[0m\n\u001b[0;32m----> 5\u001b[0;31m \u001b[0mnrows\u001b[0m \u001b[0;34m=\u001b[0m \u001b[0msqrt\u001b[0m\u001b[0;34m(\u001b[0m\u001b[0mnum_patches\u001b[0m\u001b[0;34m)\u001b[0m\u001b[0;34m\u001b[0m\u001b[0;34m\u001b[0m\u001b[0m\n\u001b[0m\u001b[1;32m      6\u001b[0m \u001b[0mncols\u001b[0m \u001b[0;34m=\u001b[0m \u001b[0msqrt\u001b[0m\u001b[0;34m(\u001b[0m\u001b[0mnum_patches\u001b[0m\u001b[0;34m)\u001b[0m\u001b[0;34m\u001b[0m\u001b[0;34m\u001b[0m\u001b[0m\n\u001b[1;32m      7\u001b[0m \u001b[0;34m\u001b[0m\u001b[0m\n",
      "\u001b[0;31mNameError\u001b[0m: name 'sqrt' is not defined"
     ]
    }
   ],
   "source": [
    "image = np.asarray( Image.open(\"uss_enterprise.jpeg\") )\n",
    "num_patches = 16\n",
    "patches = extract_patch( image, num_patches )\n",
    "\n",
    "nrows = sqrt(num_patches)\n",
    "ncols = sqrt(num_patches)\n",
    "\n",
    "fig = plt.figure()\n",
    "for row in range(nrows):\n",
    "    for col in range(ncols):\n",
    "        index = row * ncols + col\n",
    "        ax = fig.add_subplot(nrows, ncols, index+1)\n",
    "        ax.imshow(patches[row,col,:,:])\n",
    "        ax.tick_params(left=False,\n",
    "                       bottom=False,\n",
    "                       labelleft=False,\n",
    "                       labelright=False)"
   ]
  },
  {
   "cell_type": "code",
   "execution_count": null,
   "id": "2719e1cb",
   "metadata": {},
   "outputs": [],
   "source": []
  }
 ],
 "metadata": {
  "interpreter": {
   "hash": "aee8b7b246df8f9039afb4144a1f6fd8d2ca17a180786b69acc140d282b71a49"
  },
  "kernelspec": {
   "display_name": "Python 3.10.0 64-bit",
   "name": "python3"
  },
  "language_info": {
   "codemirror_mode": {
    "name": "ipython",
    "version": 3
   },
   "file_extension": ".py",
   "mimetype": "text/x-python",
   "name": "python",
   "nbconvert_exporter": "python",
   "pygments_lexer": "ipython3",
   "version": "3.10.0"
  }
 },
 "nbformat": 4,
 "nbformat_minor": 5
}
