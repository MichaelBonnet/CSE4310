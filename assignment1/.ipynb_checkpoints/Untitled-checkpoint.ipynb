{
 "cells": [
  {
   "cell_type": "code",
   "execution_count": 1,
   "id": "2327263b",
   "metadata": {},
   "outputs": [],
   "source": [
    "import sys\n",
    "import numpy as np\n",
    "from numpy.lib import stride_tricks\n",
    "from PIL import Image\n",
    "from matplotlib import pyplot as plt\n",
    "import math"
   ]
  },
  {
   "cell_type": "code",
   "execution_count": 2,
   "id": "db185489",
   "metadata": {},
   "outputs": [],
   "source": [
    "# Patch extraction\n",
    "def extract_patch(img, num_patches):\n",
    "\n",
    "    # non-overlapping patches\n",
    "    H, W, D = img.shape\n",
    "    size = int( (H*W)/num_patches ) \n",
    "    print(\"size is    \"+str(size))\n",
    "    shape = [H // num_patches, W // num_patches] + [size, size, 3]\n",
    "    print(\"shape is   \"+str(shape))\n",
    "\n",
    "    # (row, col, patch_row, patch_col)\n",
    "    strides = [size * s for s in img.strides[:2]] + list(img.strides)\n",
    "    print(\"strides is \"+str(strides))\n",
    "\n",
    "    # extract patches\n",
    "    patches = stride_tricks.as_strided(img, shape=shape, strides=strides) \n",
    "\n",
    "    print(\"patches.shape is \"+str(patches.shape) )\n",
    "    \n",
    "    # return patches as array as well as an integer n\n",
    "    return patches"
   ]
  },
  {
   "cell_type": "code",
   "execution_count": null,
   "id": "23b08a24",
   "metadata": {},
   "outputs": [
    {
     "name": "stdout",
     "output_type": "stream",
     "text": [
      "size is    62500\n",
      "shape is   [125, 125, 62500, 62500, 3]\n",
      "strides is [93750000, 187500, 1500, 3, 1]\n",
      "patches.shape is (125, 125, 62500, 62500, 3)\n"
     ]
    }
   ],
   "source": [
    "image = np.asarray( Image.open(\"uss_enterprise.jpeg\") )\n",
    "patches = extract_patch( image, 4 )\n",
    "# print(len(patches))\n",
    "\n",
    "# for patch in patches:\n",
    "#     print(\"showing image\")\n",
    "#     plt.imshow(patch)\n",
    "#     plt.show()\n",
    "\n",
    "dimension = int( 4 )\n",
    "\n",
    "fig = plt.figure()\n",
    "for row in range(dimension):\n",
    "    for col in range(dimension):\n",
    "        index = row * dimension + col\n",
    "        ax = fig.add_subplot(dimension, dimension, index+1)\n",
    "        ax.imshow(patches[row,col,:,:])\n",
    "        ax.tick_params(left=False,\n",
    "                       bottom=False,\n",
    "                       labelleft=False,\n",
    "                       labelright=False)"
   ]
  },
  {
   "cell_type": "code",
   "execution_count": null,
   "id": "1e983353",
   "metadata": {},
   "outputs": [],
   "source": []
  }
 ],
 "metadata": {
  "kernelspec": {
   "display_name": "Python 3 (ipykernel)",
   "language": "python",
   "name": "python3"
  },
  "language_info": {
   "codemirror_mode": {
    "name": "ipython",
    "version": 3
   },
   "file_extension": ".py",
   "mimetype": "text/x-python",
   "name": "python",
   "nbconvert_exporter": "python",
   "pygments_lexer": "ipython3",
   "version": "3.9.7"
  }
 },
 "nbformat": 4,
 "nbformat_minor": 5
}
